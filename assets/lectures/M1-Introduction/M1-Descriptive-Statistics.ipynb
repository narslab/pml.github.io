{
 "cells": [
  {
   "cell_type": "markdown",
   "metadata": {},
   "source": [
    "## Example 1"
   ]
  },
  {
   "cell_type": "code",
   "execution_count": null,
   "metadata": {},
   "outputs": [],
   "source": [
    "cadence = [.95 .85 .92 .95 .93 .86 1.00 .92 .85 .81 .78 .93 .93 1.05 .93 1.06 .96 .81 .96];\n",
    "% note that the semi-colon suppresses output upon running the file"
   ]
  },
  {
   "cell_type": "code",
   "execution_count": null,
   "metadata": {},
   "outputs": [],
   "source": [
    "\n",
    "% Let's begin by finding a few measures of location\n",
    "%mean(cadence)\n",
    "\n",
    "%median(cadence)\n",
    "%mode(cadence)\n",
    "%prctile(cadence,25)\n",
    "\n",
    "\n",
    "% And then measures of dispersion\n",
    "%var(cadence)\n",
    "%std(cadence)\n",
    "\n",
    "\n",
    "% Then we can plot a histogram\n",
    "figure\n",
    "histogram(cadence)\n",
    "xlabel('Cadence (strides per second')\n",
    "ylabel('Counts')\n",
    "\n",
    "% Assign measures to variables\n",
    "m = mean(cadence) ;\n",
    "med = median(cadence);\n",
    "mod = mode(cadence);\n",
    "firstquart = prctile(cadence,25) ;\n",
    "\n",
    "% And then measures of dispersion\n",
    "va = var(cadence);\n",
    "sd = std(cadence);\n",
    "%{\n",
    "\n",
    "%}"
   ]
  }
 ],
 "metadata": {
  "kernelspec": {
   "display_name": "Matlab",
   "language": "matlab",
   "name": "matlab"
  },
  "language_info": {
   "codemirror_mode": "octave",
   "file_extension": ".m",
   "help_links": [
    {
     "text": "MetaKernel Magics",
     "url": "https://metakernel.readthedocs.io/en/latest/source/README.html"
    }
   ],
   "mimetype": "text/x-octave",
   "name": "matlab",
   "version": "0.16.9"
  }
 },
 "nbformat": 4,
 "nbformat_minor": 4
}
