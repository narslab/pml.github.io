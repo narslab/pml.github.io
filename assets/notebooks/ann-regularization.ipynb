{
 "cells": [
  {
   "cell_type": "markdown",
   "metadata": {},
   "source": [
    "# M7a: Artificial Neural Networks"
   ]
  },
  {
   "cell_type": "code",
   "execution_count": 2,
   "metadata": {},
   "outputs": [
    {
     "name": "stderr",
     "output_type": "stream",
     "text": [
      "2025-10-20 13:33:57.179075: E external/local_xla/xla/stream_executor/cuda/cuda_fft.cc:485] Unable to register cuFFT factory: Attempting to register factory for plugin cuFFT when one has already been registered\n",
      "2025-10-20 13:33:57.198219: E external/local_xla/xla/stream_executor/cuda/cuda_dnn.cc:8454] Unable to register cuDNN factory: Attempting to register factory for plugin cuDNN when one has already been registered\n",
      "2025-10-20 13:33:57.203953: E external/local_xla/xla/stream_executor/cuda/cuda_blas.cc:1452] Unable to register cuBLAS factory: Attempting to register factory for plugin cuBLAS when one has already been registered\n",
      "2025-10-20 13:33:57.218469: I tensorflow/core/platform/cpu_feature_guard.cc:210] This TensorFlow binary is optimized to use available CPU instructions in performance-critical operations.\n",
      "To enable the following instructions: AVX2 AVX512F FMA, in other operations, rebuild TensorFlow with the appropriate compiler flags.\n",
      "2025-10-20 13:33:58.202522: W tensorflow/compiler/tf2tensorrt/utils/py_utils.cc:38] TF-TRT Warning: Could not find TensorRT\n"
     ]
    },
    {
     "ename": "ModuleNotFoundError",
     "evalue": "No module named 'tensorflow.keras.layers.experimental'",
     "output_type": "error",
     "traceback": [
      "\u001b[0;31m---------------------------------------------------------------------------\u001b[0m",
      "\u001b[0;31mModuleNotFoundError\u001b[0m                       Traceback (most recent call last)",
      "Cell \u001b[0;32mIn[2], line 14\u001b[0m\n\u001b[1;32m     12\u001b[0m \u001b[38;5;28;01mfrom\u001b[39;00m \u001b[38;5;21;01mtensorflow\u001b[39;00m \u001b[38;5;28;01mimport\u001b[39;00m keras\n\u001b[1;32m     13\u001b[0m \u001b[38;5;28;01mfrom\u001b[39;00m \u001b[38;5;21;01mtensorflow\u001b[39;00m\u001b[38;5;21;01m.\u001b[39;00m\u001b[38;5;21;01mkeras\u001b[39;00m \u001b[38;5;28;01mimport\u001b[39;00m layers, Input\n\u001b[0;32m---> 14\u001b[0m \u001b[38;5;28;01mfrom\u001b[39;00m \u001b[38;5;21;01mtensorflow\u001b[39;00m\u001b[38;5;21;01m.\u001b[39;00m\u001b[38;5;21;01mkeras\u001b[39;00m\u001b[38;5;21;01m.\u001b[39;00m\u001b[38;5;21;01mlayers\u001b[39;00m\u001b[38;5;21;01m.\u001b[39;00m\u001b[38;5;21;01mexperimental\u001b[39;00m \u001b[38;5;28;01mimport\u001b[39;00m preprocessing\n\u001b[1;32m     15\u001b[0m \u001b[38;5;28;01mfrom\u001b[39;00m \u001b[38;5;21;01mtensorflow\u001b[39;00m\u001b[38;5;21;01m.\u001b[39;00m\u001b[38;5;21;01mkeras\u001b[39;00m \u001b[38;5;28;01mimport\u001b[39;00m backend \u001b[38;5;28;01mas\u001b[39;00m K\n",
      "\u001b[0;31mModuleNotFoundError\u001b[0m: No module named 'tensorflow.keras.layers.experimental'"
     ]
    }
   ],
   "source": [
    "import matplotlib.pyplot as plt\n",
    "import numpy as np\n",
    "import pandas as pd\n",
    "import seaborn as sns\n",
    "\n",
    "from sklearn.model_selection import train_test_split\n",
    "from sklearn import svm, datasets\n",
    "from sklearn.metrics import classification_report, confusion_matrix\n",
    "from sklearn.preprocessing import scale\n",
    "\n",
    "import tensorflow as tf\n",
    "from tensorflow import keras\n",
    "from tensorflow.keras import layers, Input\n",
    "from tensorflow.keras.layers.experimental import preprocessing\n",
    "from tensorflow.keras import backend as K\n"
   ]
  },
  {
   "cell_type": "code",
   "execution_count": 9,
   "metadata": {},
   "outputs": [],
   "source": [
    "def reset_weights(model):\n",
    "\t\"\"\"This function re-initializes model weights at each compile\"\"\"\n",
    "\tfor layer in model.layers: \n",
    "\t\tif isinstance(layer, tf.keras.Model):\n",
    "\t\t\treset_weights(layer)\n",
    "\t\t\tcontinue\n",
    "\tfor k, initializer in layer.__dict__.items():\n",
    "\t\tif \"initializer\" not in k:\n",
    "\t\t\tcontinue\n",
    "\t\t# find the corresponding variable\n",
    "\t\tvar = getattr(layer, k.replace(\"_initializer\", \"\"))\n",
    "\t\tvar.assign(initializer(var.shape, var.dtype))"
   ]
  },
  {
   "cell_type": "code",
   "execution_count": 3,
   "metadata": {},
   "outputs": [],
   "source": [
    "X, y = datasets.fetch_california_housing(return_X_y=True)#, as_frame=True)\n",
    "X = scale(X)"
   ]
  },
  {
   "cell_type": "code",
   "execution_count": 14,
   "metadata": {
    "jupyter": {
     "source_hidden": true
    }
   },
   "outputs": [
    {
     "data": {
      "text/plain": [
       "array([[ 2.34476576,  0.98214266,  0.62855945, ..., -0.04959654,\n",
       "         1.05254828, -1.32783522],\n",
       "       [ 2.33223796, -0.60701891,  0.32704136, ..., -0.09251223,\n",
       "         1.04318455, -1.32284391],\n",
       "       [ 1.7826994 ,  1.85618152,  1.15562047, ..., -0.02584253,\n",
       "         1.03850269, -1.33282653],\n",
       "       ...,\n",
       "       [-1.14259331, -0.92485123, -0.09031802, ..., -0.0717345 ,\n",
       "         1.77823747, -0.8237132 ],\n",
       "       [-1.05458292, -0.84539315, -0.04021111, ..., -0.09122515,\n",
       "         1.77823747, -0.87362627],\n",
       "       [-0.78012947, -1.00430931, -0.07044252, ..., -0.04368215,\n",
       "         1.75014627, -0.83369581]])"
      ]
     },
     "execution_count": 14,
     "metadata": {},
     "output_type": "execute_result"
    }
   ],
   "source": [
    "X, y = datasets.fetch_california_housing(return_X_y=True, as_frame=True)"
   ]
  },
  {
   "cell_type": "code",
   "execution_count": 4,
   "metadata": {},
   "outputs": [
    {
     "data": {
      "text/plain": [
       "(array([ 877., 3612., 4099., 3771., 2799., 1769., 1239.,  752.,  479.,\n",
       "        1243.]),\n",
       " array([0.14999 , 0.634992, 1.119994, 1.604996, 2.089998, 2.575   ,\n",
       "        3.060002, 3.545004, 4.030006, 4.515008, 5.00001 ]),\n",
       " <a list of 10 Patch objects>)"
      ]
     },
     "execution_count": 4,
     "metadata": {},
     "output_type": "execute_result"
    },
    {
     "data": {
      "image/png": "[encoded data removed]",
      "text/plain": [
       "<Figure size 432x288 with 1 Axes>"
      ]
     },
     "metadata": {
      "needs_background": "light"
     },
     "output_type": "display_data"
    }
   ],
   "source": [
    "plt.hist(y)"
   ]
  },
  {
   "cell_type": "code",
   "execution_count": 4,
   "metadata": {},
   "outputs": [],
   "source": [
    "X_train, X_test, y_train, y_test = train_test_split(X, y, test_size = .2, random_state = 1)\n",
    "#y_train = y_train/y_train.max()\n",
    "#y_test = y_test/y_test.max()"
   ]
  },
  {
   "cell_type": "code",
   "execution_count": 15,
   "metadata": {},
   "outputs": [
    {
     "data": {
      "text/plain": [
       "16512"
      ]
     },
     "execution_count": 15,
     "metadata": {},
     "output_type": "execute_result"
    }
   ],
   "source": [
    "len(X_train)"
   ]
  },
  {
   "cell_type": "code",
   "execution_count": 16,
   "metadata": {},
   "outputs": [
    {
     "data": {
      "text/plain": [
       "4128"
      ]
     },
     "execution_count": 16,
     "metadata": {},
     "output_type": "execute_result"
    }
   ],
   "source": [
    "len(X_test)"
   ]
  },
  {
   "cell_type": "markdown",
   "metadata": {},
   "source": [
    "### Neural network implementation"
   ]
  },
  {
   "cell_type": "code",
   "execution_count": 17,
   "metadata": {},
   "outputs": [
    {
     "data": {
      "text/plain": [
       "8"
      ]
     },
     "execution_count": 17,
     "metadata": {},
     "output_type": "execute_result"
    }
   ],
   "source": [
    "X.shape[1]"
   ]
  },
  {
   "cell_type": "code",
   "execution_count": 37,
   "metadata": {},
   "outputs": [],
   "source": [
    "K.clear_session()\n",
    "model = keras.Sequential([\n",
    "    Input(shape = (X.shape[1],)),\n",
    "    layers.Dense(units = 16, activation='relu'), #1st hidden layer\n",
    "    layers.Dense(units = 64, activation='relu'), #2nd hidden layer\n",
    "    layers.Dense(units = 32, activation='relu'), #3rd hidden layer\n",
    "    layers.Dense(units = 1) #output layer, activation = None by default\n",
    "])"
   ]
  },
  {
   "cell_type": "code",
   "execution_count": 38,
   "metadata": {},
   "outputs": [
    {
     "name": "stdout",
     "output_type": "stream",
     "text": [
      "Model: \"sequential\"\n",
      "_________________________________________________________________\n",
      "Layer (type)                 Output Shape              Param #   \n",
      "=================================================================\n",
      "dense (Dense)                (None, 16)                144       \n",
      "_________________________________________________________________\n",
      "dense_1 (Dense)              (None, 64)                1088      \n",
      "_________________________________________________________________\n",
      "dense_2 (Dense)              (None, 32)                2080      \n",
      "_________________________________________________________________\n",
      "dense_3 (Dense)              (None, 1)                 33        \n",
      "=================================================================\n",
      "Total params: 3,345\n",
      "Trainable params: 3,345\n",
      "Non-trainable params: 0\n",
      "_________________________________________________________________\n"
     ]
    }
   ],
   "source": [
    "model.summary()"
   ]
  },
  {
   "cell_type": "code",
   "execution_count": 39,
   "metadata": {},
   "outputs": [],
   "source": [
    "reset_weights(model)\n",
    "model.compile(loss='mean_squared_error', optimizer = keras.optimizers.SGD(0.001))"
   ]
  },
  {
   "cell_type": "code",
   "execution_count": 40,
   "metadata": {},
   "outputs": [
    {
     "name": "stdout",
     "output_type": "stream",
     "text": [
      "Train on 12384 samples, validate on 4128 samples\n",
      "Epoch 1/30\n",
      "12384/12384 [==============================] - 1s 115us/sample - loss: 3.1281 - val_loss: 1.4491\n",
      "Epoch 2/30\n",
      "12384/12384 [==============================] - 1s 65us/sample - loss: 1.0504 - val_loss: 0.9219\n",
      "Epoch 3/30\n",
      "12384/12384 [==============================] - 1s 66us/sample - loss: 0.8154 - val_loss: 0.7604\n",
      "Epoch 4/30\n",
      "12384/12384 [==============================] - 1s 71us/sample - loss: 0.7415 - val_loss: 0.7008\n",
      "Epoch 5/30\n",
      "12384/12384 [==============================] - 1s 77us/sample - loss: 0.7090 - val_loss: 0.6742\n",
      "Epoch 6/30\n",
      "12384/12384 [==============================] - 1s 67us/sample - loss: 0.6887 - val_loss: 0.6569\n",
      "Epoch 7/30\n",
      "12384/12384 [==============================] - 1s 62us/sample - loss: 0.6720 - val_loss: 0.6419\n",
      "Epoch 8/30\n",
      "12384/12384 [==============================] - 1s 73us/sample - loss: 0.6572 - val_loss: 0.6291\n",
      "Epoch 9/30\n",
      "12384/12384 [==============================] - 1s 77us/sample - loss: 0.6430 - val_loss: 0.6166\n",
      "Epoch 10/30\n",
      "12384/12384 [==============================] - 1s 69us/sample - loss: 0.6294 - val_loss: 0.6049\n",
      "Epoch 11/30\n",
      "12384/12384 [==============================] - 1s 88us/sample - loss: 0.6159 - val_loss: 0.5929\n",
      "Epoch 12/30\n",
      "12384/12384 [==============================] - 1s 72us/sample - loss: 0.6030 - val_loss: 0.5816\n",
      "Epoch 13/30\n",
      "12384/12384 [==============================] - 1s 62us/sample - loss: 0.5901 - val_loss: 0.5700\n",
      "Epoch 14/30\n",
      "12384/12384 [==============================] - 1s 107us/sample - loss: 0.5775 - val_loss: 0.5598\n",
      "Epoch 15/30\n",
      "12384/12384 [==============================] - 1s 69us/sample - loss: 0.5659 - val_loss: 0.5499\n",
      "Epoch 16/30\n",
      "12384/12384 [==============================] - 1s 70us/sample - loss: 0.5543 - val_loss: 0.5405\n",
      "Epoch 17/30\n",
      "12384/12384 [==============================] - 1s 80us/sample - loss: 0.5433 - val_loss: 0.5325\n",
      "Epoch 18/30\n",
      "12384/12384 [==============================] - 1s 79us/sample - loss: 0.5330 - val_loss: 0.5236\n",
      "Epoch 19/30\n",
      "12384/12384 [==============================] - 1s 66us/sample - loss: 0.5236 - val_loss: 0.5167\n",
      "Epoch 20/30\n",
      "12384/12384 [==============================] - 1s 83us/sample - loss: 0.5149 - val_loss: 0.5099\n",
      "Epoch 21/30\n",
      "12384/12384 [==============================] - 1s 78us/sample - loss: 0.5068 - val_loss: 0.5047\n",
      "Epoch 22/30\n",
      "12384/12384 [==============================] - 1s 71us/sample - loss: 0.4997 - val_loss: 0.4985\n",
      "Epoch 23/30\n",
      "12384/12384 [==============================] - 1s 61us/sample - loss: 0.4929 - val_loss: 0.4937\n",
      "Epoch 24/30\n",
      "12384/12384 [==============================] - 1s 106us/sample - loss: 0.4868 - val_loss: 0.4893\n",
      "Epoch 25/30\n",
      "12384/12384 [==============================] - 1s 72us/sample - loss: 0.4813 - val_loss: 0.4845\n",
      "Epoch 26/30\n",
      "12384/12384 [==============================] - 1s 90us/sample - loss: 0.4764 - val_loss: 0.4802\n",
      "Epoch 27/30\n",
      "12384/12384 [==============================] - 1s 76us/sample - loss: 0.4717 - val_loss: 0.4766\n",
      "Epoch 28/30\n",
      "12384/12384 [==============================] - 1s 81us/sample - loss: 0.4676 - val_loss: 0.4731\n",
      "Epoch 29/30\n",
      "12384/12384 [==============================] - 1s 84us/sample - loss: 0.4638 - val_loss: 0.4705\n",
      "Epoch 30/30\n",
      "12384/12384 [==============================] - 1s 72us/sample - loss: 0.4602 - val_loss: 0.4683\n"
     ]
    }
   ],
   "source": [
    "hist = model.fit(X_train, y_train, batch_size = 64,\n",
    "                 validation_split = 0.25, \n",
    "                 #validation_data = (X_test, y_test), \n",
    "                 verbose = 1, epochs = 30)"
   ]
  },
  {
   "cell_type": "code",
   "execution_count": 24,
   "metadata": {},
   "outputs": [],
   "source": [
    "def plot_loss(history):\n",
    "  plt.plot(history.history['loss'], label='loss')\n",
    "  plt.plot(history.history['val_loss'], label='val_loss')\n",
    "  #plt.ylim([0, 10])\n",
    "  plt.xlabel('Epoch')\n",
    "  plt.ylabel('Loss')\n",
    "  plt.legend()\n",
    "  plt.grid(True)"
   ]
  },
  {
   "cell_type": "code",
   "execution_count": 41,
   "metadata": {},
   "outputs": [
    {
     "data": {
      "image/png": "[encoded data removed]",
      "text/plain": [
       "<Figure size 432x288 with 1 Axes>"
      ]
     },
     "metadata": {
      "needs_background": "light"
     },
     "output_type": "display_data"
    }
   ],
   "source": [
    "plot_loss(hist)"
   ]
  },
  {
   "cell_type": "code",
   "execution_count": 34,
   "metadata": {},
   "outputs": [],
   "source": [
    "y_pred = model.predict(X_test).flatten()"
   ]
  },
  {
   "cell_type": "code",
   "execution_count": 27,
   "metadata": {},
   "outputs": [
    {
     "data": {
      "image/png": "[encoded data removed]",
      "text/plain": [
       "<Figure size 432x288 with 1 Axes>"
      ]
     },
     "metadata": {
      "needs_background": "light"
     },
     "output_type": "display_data"
    }
   ],
   "source": [
    "a = plt.axes(aspect='equal')\n",
    "plt.scatter(y_test, y_pred, alpha = .5)\n",
    "plt.xlabel('True Values')\n",
    "plt.ylabel('Predictions')\n",
    "lims = [0, 6]\n",
    "plt.xlim(lims)\n",
    "plt.ylim(lims)\n",
    "_ = plt.plot(lims, lims)\n"
   ]
  },
  {
   "cell_type": "code",
   "execution_count": 35,
   "metadata": {},
   "outputs": [
    {
     "data": {
      "image/png": "[encoded data removed]",
      "text/plain": [
       "<Figure size 432x288 with 1 Axes>"
      ]
     },
     "metadata": {
      "needs_background": "light"
     },
     "output_type": "display_data"
    }
   ],
   "source": [
    "error = y_pred - y_test\n",
    "plt.hist(error, bins=25)\n",
    "plt.xlabel('Residuals')\n",
    "_ = plt.ylabel('Count')"
   ]
  },
  {
   "cell_type": "code",
   "execution_count": 36,
   "metadata": {},
   "outputs": [
    {
     "data": {
      "text/plain": [
       "0.02760932522398559"
      ]
     },
     "execution_count": 36,
     "metadata": {},
     "output_type": "execute_result"
    }
   ],
   "source": [
    "np.mean(error)"
   ]
  }
 ],
 "metadata": {
  "kernelspec": {
   "display_name": "Python (nars)",
   "language": "python",
   "name": "nars"
  },
  "language_info": {
   "codemirror_mode": {
    "name": "ipython",
    "version": 3
   },
   "file_extension": ".py",
   "mimetype": "text/x-python",
   "name": "python",
   "nbconvert_exporter": "python",
   "pygments_lexer": "ipython3",
   "version": "3.12.7"
  }
 },
 "nbformat": 4,
 "nbformat_minor": 4
}
